{
 "cells": [
  {
   "cell_type": "code",
   "execution_count": 2,
   "id": "8f098bd7-c223-4981-a313-d221f66c69e7",
   "metadata": {
    "tags": []
   },
   "outputs": [
    {
     "name": "stderr",
     "output_type": "stream",
     "text": [
      "\n",
      "KeyboardInterrupt\n",
      "\n"
     ]
    }
   ],
   "source": [
    "import rasterio\n",
    "import geopandas as gpd\n",
    "import pandas as pd\n",
    "import os\n",
    "\n",
    "# Directory containing your point shapefiles\n",
    "points_dir = './Centroids_data'\n",
    "# Output folder for the CSV files\n",
    "output_folder = 'Temporal_series_data'\n",
    "\n",
    "# Check if the output folder exists, create it if it does not\n",
    "if not os.path.exists(output_folder):\n",
    "    os.makedirs(output_folder)\n",
    "\n",
    "# Pre-load all raster data sources outside of the shapefile loop to avoid reopening them\n",
    "rasters = {}\n",
    "for year in range(2012, 2022):  # From 2012 to 2021\n",
    "    image_path = f'Images/{year}.tif'  # Update this path if necessary\n",
    "    rasters[year] = rasterio.open(image_path)\n",
    "\n",
    "# Keep track of the filenames\n",
    "csv_filenames = []\n",
    "\n",
    "# Iterate over all shapefiles in the points directory\n",
    "for shp_file in sorted(os.listdir(points_dir)):\n",
    "    if shp_file.endswith('.shp'):\n",
    "        pixel_data = []  # Initialize a list to store pixel value data\n",
    "\n",
    "        shp_path = os.path.join(points_dir, shp_file)\n",
    "        points_gdf = gpd.read_file(shp_path)  # Load the shapefile\n",
    "\n",
    "        # Collect all point coordinates\n",
    "        coordinates = [(point.geometry.x, point.geometry.y) for index, point in points_gdf.iterrows()]\n",
    "\n",
    "        # For each raster year\n",
    "        for year, src in rasters.items():\n",
    "            # Sample all points at once\n",
    "            values = list(src.sample(coordinates))\n",
    "            \n",
    "            # Append pixel data for each point\n",
    "            for i, val in enumerate(values):\n",
    "                pixel_data.append({\n",
    "                    'Date': year,\n",
    "                    'ID': points_gdf.iloc[i]['ID'],  # Assuming 'ID' is the column name\n",
    "                    'Blue': val[0],\n",
    "                    'Green': val[1],\n",
    "                    'Red': val[2],\n",
    "                    'NIR': val[3]  # Assuming band order is Blue, Green, Red, NIR\n",
    "                })\n",
    "\n",
    "        pixel_df = pd.DataFrame(pixel_data)  # Convert to DataFrame\n",
    "        csv_filename = os.path.join(output_folder, f\"{shp_file.split('.')[0]}.csv\")\n",
    "        pixel_df.to_csv(csv_filename, index=True)  # Save to CSV\n",
    "        csv_filenames.append(csv_filename)  # Store the filename\n",
    "\n",
    "# Sort the filenames list\n",
    "csv_filenames.sort()  # Sorts filenames alphabetically, adjust if a different sorting is required\n",
    "\n",
    "# Optionally rename the files based on sorted order\n",
    "for i, filename in enumerate(csv_filenames, start=1):\n",
    "    new_filename = os.path.join(output_folder, f\"tile_{i}.csv\")\n",
    "    os.rename(filename, new_filename)  # Rename the file\n",
    "\n",
    "# Close raster files\n",
    "for src in rasters.values():\n",
    "    src.close()\n"
   ]
  },
  {
   "cell_type": "code",
   "execution_count": null,
   "id": "e2618442-71c0-40ff-ae75-d2ecc5755472",
   "metadata": {},
   "outputs": [],
   "source": []
  }
 ],
 "metadata": {
  "kernelspec": {
   "display_name": "Python 3 (ipykernel)",
   "language": "python",
   "name": "python3"
  },
  "language_info": {
   "codemirror_mode": {
    "name": "ipython",
    "version": 3
   },
   "file_extension": ".py",
   "mimetype": "text/x-python",
   "name": "python",
   "nbconvert_exporter": "python",
   "pygments_lexer": "ipython3",
   "version": "3.11.5"
  }
 },
 "nbformat": 4,
 "nbformat_minor": 5
}
